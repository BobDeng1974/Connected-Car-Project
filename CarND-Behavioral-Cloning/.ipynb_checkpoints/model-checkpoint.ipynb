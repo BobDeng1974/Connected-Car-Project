{
 "cells": [
  {
   "cell_type": "code",
   "execution_count": null,
   "metadata": {
    "collapsed": false
   },
   "outputs": [],
   "source": [
    "# load in the data\n",
    "import pandas as pd\n",
    "track_log = pd.read_csv('../../data1/driving_log.csv',names=['Center','Left','Right','Steering Angle','Throttle','Break','Speed'], skiprows=1)\n",
    "#validing_log = pd.read_csv('../../Dataset/test/driving_log.csv',names=['Center','Left','Right','Steering Angle','Throttle','Break','Speed'],header=None)\n",
    "track2_log = pd.read_csv('../../data2/driving_log.csv',names=['Center','Left','Right','Steering Angle','Throttle','Break','Speed'], skiprows=1)\n",
    "\n",
    "#combine track1 and track2 data\n",
    "combine = [track_log, track2_log]\n",
    "#make the combine ignore the index number\n",
    "track_log = pd.concat(combine, ignore_index=True) \n",
    "\n",
    "print(track_log.shape)"
   ]
  },
  {
   "cell_type": "code",
   "execution_count": null,
   "metadata": {
    "collapsed": false
   },
   "outputs": [],
   "source": [
    "#load in the img by csv_data\n",
    "import cv2\n",
    "import numpy as np\n",
    "\n",
    "def load_in_img(img_location):\n",
    "\n",
    "    imageLocation = '../../data1/'+img_location\n",
    "    image = cv2.imread(imageLocation,cv2.IMREAD_COLOR) # BGR\n",
    "\n",
    "    #workaround -> to find the track2 data\n",
    "    if (image is None):\n",
    "        imageLocation = '../../data2/'+img_location\n",
    "        image = cv2.imread(imageLocation,cv2.IMREAD_COLOR) # BGR\n",
    "        \n",
    "    if (image is None):\n",
    "        print(imageLocation)\n",
    "    \n",
    "    image = cv2.resize(image, (200,66), fx=0.5, fy=0.5)\n",
    "    image = cv2.cvtColor(image, cv2.COLOR_BGR2RGB) # BGR to RGB\n",
    "    return image\n",
    "\n",
    "numSample = 1000\n",
    "centerImgs = np.array([load_in_img(img_location) for img_location in track_log['Center'][0:numSample]], dtype=np.float32)\n",
    "leftImgs = np.array([load_in_img(img_location) for img_location in track_log['Left'][0:numSample]], dtype=np.float32)\n",
    "rightImgs = np.array([load_in_img(img_location) for img_location in track_log['Right'][0:numSample]], dtype=np.float32) \n"
   ]
  },
  {
   "cell_type": "code",
   "execution_count": null,
   "metadata": {
    "collapsed": false
   },
   "outputs": [],
   "source": [
    "#check the image size\n",
    "print(centerImgs.shape)\n",
    "print(leftImgs.shape)\n",
    "print(rightImgs.shape)"
   ]
  },
  {
   "cell_type": "code",
   "execution_count": null,
   "metadata": {
    "collapsed": true
   },
   "outputs": [],
   "source": [
    "#data augmentation\n",
    "import cv2\n",
    "import numpy as np\n",
    "IMAGE_W_H = 64 # 64 X 64\n",
    "\n",
    "# flip images horizontally\n",
    "def random_flip_image(img, angle):\n",
    "    if np.random.rand() < 0.5:\n",
    "        img = cv2.flip(img, 1)\n",
    "        angle = -angle\n",
    "    return img, angle\n",
    "\n",
    "def modify_brightness(img):\n",
    "    img = cv2.cvtColor(img,cv2.COLOR_BGR2HSV)\n",
    "    brightness_multiplier = np.random.uniform(0.3, 1.1)\n",
    "    img[:,:,2] = img[:,:,2]*brightness_multiplier\n",
    "    img[:,:,2][img[:,:,2]>255] = 255\n",
    "    img = cv2.cvtColor(img, cv2.COLOR_HSV2BGR)\n",
    "    return img\n",
    "\n",
    "def add_random_shadow(image):\n",
    "    top_y = 320*np.random.uniform()\n",
    "    top_x = 0\n",
    "    bot_x = 160\n",
    "    bot_y = 320*np.random.uniform()\n",
    "    image_hls = cv2.cvtColor(image,cv2.COLOR_RGB2HLS)\n",
    "    shadow_mask = 0*image_hls[:,:,1]\n",
    "    X_m = np.mgrid[0:image.shape[0],0:image.shape[1]][0]\n",
    "    Y_m = np.mgrid[0:image.shape[0],0:image.shape[1]][1]\n",
    "    shadow_mask[((X_m-top_x)*(bot_y-top_y) -(bot_x - top_x)*(Y_m-top_y) >=0)]=1\n",
    "    #random_bright = .25+.7*np.random.uniform()\n",
    "    if np.random.randint(2)==1:\n",
    "        random_bright = .5\n",
    "        cond1 = shadow_mask==1\n",
    "        cond0 = shadow_mask==0\n",
    "        if np.random.randint(2)==1:\n",
    "            image_hls[:,:,1][cond1] = image_hls[:,:,1][cond1]*random_bright\n",
    "        else:\n",
    "            image_hls[:,:,1][cond0] = image_hls[:,:,1][cond0]*random_bright    \n",
    "    image = cv2.cvtColor(image_hls,cv2.COLOR_HLS2RGB)\n",
    "    return image\n",
    "\n",
    "def random_translate(image, steering_angle, range_x=100, range_y=10):\n",
    "    \"\"\"\n",
    "    Randomly shift the image virtially and horizontally (translation).\n",
    "    \"\"\"\n",
    "    trans_x = range_x * (np.random.rand() - 0.5)\n",
    "    trans_y = range_y * (np.random.rand() - 0.5)\n",
    "    steering_angle += trans_x * 0.002\n",
    "    trans_m = np.float32([[1, 0, trans_x], [0, 1, trans_y]])\n",
    "    height, width = image.shape[:2]\n",
    "    image = cv2.warpAffine(image, trans_m, (width, height))\n",
    "    return image, steering_angle\n",
    "\n",
    "\n",
    "def process_image(img, angle):\n",
    "    img = add_random_shadow(img)\n",
    "    img, angle = random_flip_image(img, angle)\n",
    "    img, angle = random_translate(img, angle)\n",
    "    img = modify_brightness(img)\n",
    "    return img, angle"
   ]
  },
  {
   "cell_type": "code",
   "execution_count": null,
   "metadata": {
    "collapsed": true
   },
   "outputs": [],
   "source": [
    "import sklearn\n",
    "\n",
    "#load in the img and angle data\n",
    "def load_data(img_sample, ang_sample, correction = 0.20):\n",
    "\n",
    "    img_center = load_in_img(img_sample)\n",
    "    img_left = load_in_img(img_sample)\n",
    "    img_right =load_in_img(img_sample)\n",
    "    \n",
    "    angle_center = float(ang_sample) *(1+ np.random.uniform(-0.10,0.10))\n",
    "    angle_left = angle_center + correction\n",
    "    angle_right = angle_center - correction\n",
    "\n",
    "    return (img_center, img_left, img_right), (angle_center, angle_left, angle_right)\n",
    "\n",
    "#Generator\n",
    "def generator(samples, batch_size=64):\n",
    "    num_samples = len(samples)\n",
    "    while 1: \n",
    "        sklearn.utils.shuffle(samples)\n",
    "        for offset in range(0, num_samples, batch_size):\n",
    "            batch_samples = samples[offset:offset + batch_size]       \n",
    "            images = []\n",
    "            angles = []\n",
    "            for img, ang in zip(batch_samples['Center'], batch_samples['Steering Angle']):\n",
    "                image, angle = load_data(img, ang)\n",
    "                for item in zip(image,angle): #iterate camera images and steering angles\n",
    "                    #print(item[0])\n",
    "                    aug_image, aug_angle = process_image(item[0], item[1])\n",
    "                    if abs(aug_angle) > 0.05:\n",
    "                        images.append(aug_image)\n",
    "                        angles.append(aug_angle)\n",
    "                        #print(aug_image.shape)\n",
    "                \n",
    "            X_train = np.array(images)\n",
    "            y_train = np.array(angles)\n",
    "            yield X_train, y_train"
   ]
  },
  {
   "cell_type": "code",
   "execution_count": null,
   "metadata": {
    "collapsed": true
   },
   "outputs": [],
   "source": [
    "#split the log into train_samples and validation_samples\n",
    "from sklearn.model_selection import train_test_split\n",
    "train_samples, validation_samples = train_test_split(track_log, test_size=0.2)\n",
    "\n",
    "# compile and train the model using the generator function\n",
    "train_generator = generator(train_samples)\n",
    "validation_generator = generator(validation_samples)"
   ]
  },
  {
   "cell_type": "code",
   "execution_count": null,
   "metadata": {
    "collapsed": false
   },
   "outputs": [],
   "source": [
    "import matplotlib.pyplot as plt\n",
    "iterator = generator(train_samples, 32)\n",
    "sample_images, sample_steerings = iterator.__next__()\n",
    "\n",
    "\n",
    "plt.subplots(figsize=(20, 5))\n",
    "for i in range(10):\n",
    "    #print(sample_images.shape)\n",
    "    #print(sample_steerings.shape)\n",
    "    plt.subplot(2, 5, i+1)\n",
    "    plt.axis('off')\n",
    "    plt.title(\"Steering: {:.4f}\".format(sample_steerings[i]))\n",
    "    plt.imshow(sample_images[i])\n",
    "plt.show()\n"
   ]
  },
  {
   "cell_type": "code",
   "execution_count": null,
   "metadata": {
    "collapsed": false
   },
   "outputs": [],
   "source": [
    "#NVIDIA's model\n",
    "import pickle\n",
    "import numpy as np\n",
    "import math\n",
    "from keras.utils import np_utils\n",
    "from keras.layers import Lambda, Conv2D, MaxPooling2D, Dropout, Dense, Flatten\n",
    "from keras.optimizers import SGD, Adam\n",
    "from keras.models import Sequential\n",
    "\n",
    "INPUT_SHAPE = (66, 200, 3)\n",
    "DROP_PROB = 0.7\n",
    "\n",
    "model = Sequential()\n",
    "model.add(Lambda(lambda x: x/127.5-1.0,input_shape=INPUT_SHAPE))\n",
    "model.add(Conv2D(24, 5, 5, activation='relu', subsample=(2, 2)))\n",
    "model.add(Conv2D(36, 5, 5, activation='relu', subsample=(2, 2)))\n",
    "model.add(Conv2D(48, 5, 5, activation='relu', subsample=(2, 2)))\n",
    "model.add(Conv2D(64, 3, 3, activation='relu'))\n",
    "model.add(Conv2D(64, 3, 3, activation='relu'))\n",
    "model.add(Dropout(DROP_PROB))\n",
    "model.add(Flatten())\n",
    "model.add(Dense(100))\n",
    "model.add(Dense(50))\n",
    "model.add(Dense(10))\n",
    "model.add(Dense(1))\n"
   ]
  },
  {
   "cell_type": "code",
   "execution_count": null,
   "metadata": {
    "collapsed": false
   },
   "outputs": [],
   "source": [
    "# model summary \n",
    "model.summary()"
   ]
  },
  {
   "cell_type": "code",
   "execution_count": null,
   "metadata": {
    "collapsed": false
   },
   "outputs": [],
   "source": [
    "model.compile(optimizer=\"adam\", loss=\"mse\")\n",
    "\n",
    "import os\n",
    "os.environ[\"CUDA_VISIBLE_DEVICES\"] = \"1\"\n",
    "#import tensorflow as tf\n",
    "\n",
    "# 自動增長 GPU 記憶體用量\n",
    "#gpu_options = tf.GPUOptions(allow_growth=True)\n",
    "#sess = tf.Session(config=tf.ConfigProto(gpu_options=gpu_options))\n"
   ]
  },
  {
   "cell_type": "code",
   "execution_count": null,
   "metadata": {
    "collapsed": false
   },
   "outputs": [],
   "source": [
    "from keras.callbacks import ModelCheckpoint, ReduceLROnPlateau, LambdaCallback, Callback\n",
    "import keras\n",
    "\n",
    "\n",
    "history_object = model.fit_generator(train_generator, \n",
    "                                     samples_per_epoch=32000,\n",
    "                                     validation_data=validation_generator,\n",
    "                                     nb_val_samples=len(validation_sample),\n",
    "                                     nb_epoch=30,\n",
    "                                     verbose=2)\n"
   ]
  },
  {
   "cell_type": "code",
   "execution_count": null,
   "metadata": {
    "collapsed": false
   },
   "outputs": [],
   "source": [
    "\n",
    "\n",
    "\n",
    "### plot the training and validation loss for each epoch\n",
    "plt.plot(history_object.history['loss'])\n",
    "plt.plot(history_object.history['val_loss'])\n",
    "plt.title('model mean squared error loss')\n",
    "plt.ylabel('mean squared error loss')\n",
    "plt.xlabel('epoch')\n",
    "plt.legend(['training set', 'validation set'], loc='upper right')\n",
    "plt.show()"
   ]
  },
  {
   "cell_type": "code",
   "execution_count": null,
   "metadata": {
    "collapsed": true
   },
   "outputs": [],
   "source": [
    "# save the model\n",
    "import json\n",
    "#import simplejson\n",
    "jsonString = model.to_json() # json Model\n",
    "with open('./model.json', 'w') as outFile:\n",
    "    outFile.write(jsonString)\n",
    "    # json.dump(jsonString, outFile)\n",
    "\n",
    "model.save_weights('./model.h5') #  HDF5 file"
   ]
  },
  {
   "cell_type": "code",
   "execution_count": null,
   "metadata": {
    "collapsed": true
   },
   "outputs": [],
   "source": [
    "# load the model\n",
    "from keras.models import model_from_json\n",
    "jsonFile = './model.json'\n",
    "with open(jsonFile, 'r') as jfile:\n",
    "    #model = model_from_json(json.load(jfile))\n",
    "    model = model_from_json(jfile.read())\n",
    "model.compile(\"adam\", \"mse\")\n",
    "weights_file = jsonFile.replace('json', 'h5')\n",
    "model.load_weights(weights_file)"
   ]
  },
  {
   "cell_type": "code",
   "execution_count": null,
   "metadata": {
    "collapsed": false
   },
   "outputs": [],
   "source": [
    "import time, os, fnmatch, shutil\n",
    "def save_model(model_name):\n",
    "    t = time.localtime()\n",
    "    timestamp = time.strftime('%b-%d-%Y_%H-%M-%S', t)\n",
    "    model_name = ('model' + model_name  + '_' + timestamp + '.h5')\n",
    "    \n",
    "    return model_name\n",
    "\n",
    "h5_output = save_model(\"CNN_model\") \n",
    "model.save(h5_output)\n",
    "print(\"Model saved\")"
   ]
  },
  {
   "cell_type": "code",
   "execution_count": null,
   "metadata": {
    "collapsed": true
   },
   "outputs": [],
   "source": []
  },
  {
   "cell_type": "code",
   "execution_count": null,
   "metadata": {
    "collapsed": false
   },
   "outputs": [],
   "source": [
    "##old approach\n",
    "#load in the img by csv_data\n",
    "import cv2\n",
    "import numpy as np\n",
    "\n",
    "def load_in_img(img_location, trainFlag):\n",
    "    if trainFlag:\n",
    "        imageLocation = '../../data/'+img_location\n",
    "        image = cv2.imread(imageLocation,cv2.IMREAD_COLOR) # BGR\n",
    "    else:\n",
    "        imageLocation = '../../data/'+img_location\n",
    "        image = cv2.imread(imageLocation,cv2.IMREAD_COLOR) \n",
    "    if (image is None):\n",
    "        print(imageLocation)\n",
    "    image = cv2.resize(image, (200,66), fx=0.5, fy=0.5)\n",
    "    image = cv2.cvtColor(image, cv2.COLOR_BGR2RGB)\n",
    "    return image\n",
    "\n",
    "numSample = 50\n",
    "centerImgs = np.array([load_in_img(img_location, True) for img_location in training_log['Center'][1:numSample]], dtype=np.float32)\n",
    "leftImgs = np.array([load_in_img(img_location, True) for img_location in training_log['Left'][1:numSample]], dtype=np.float32)\n",
    "rightImgs = np.array([load_in_img(img_location, True) for img_location in training_log['Right'][1:numSample]], dtype=np.float32) \n"
   ]
  },
  {
   "cell_type": "code",
   "execution_count": null,
   "metadata": {
    "collapsed": false
   },
   "outputs": [],
   "source": [
    "# budmitr's model \n",
    "import pickle\n",
    "import numpy as np\n",
    "import math\n",
    "from keras.utils import np_utils\n",
    "from keras.layers import Conv2D, Flatten, Lambda\n",
    "from keras.layers.pooling import MaxPooling2D\n",
    "from keras.layers.core import Dropout, Dense, Activation\n",
    "from keras.optimizers import SGD, Adam\n",
    "from keras.models import Sequential\n",
    "\n",
    "# config\n",
    "#inputShape = (110,320,3) \n",
    "#inputShape = (55,160,3) # centerImgs.shape # half for cpu\n",
    "#inputShape = (128,128,3) # centerImgs.shape # half for cpu\n",
    "inputShape = (40,160,3)\n",
    "\n",
    "# my architecture \n",
    "model = Sequential()\n",
    "model.add(Lambda(lambda x: x/255.-0.5,input_shape=inputShape))\n",
    "model.add(Conv2D(3,1,1, activation = 'elu', name='Conv2D1')) # color space \n",
    "\n",
    "model.add(Conv2D(16,8,8, activation = 'elu', name='Conv2D2'))\n",
    "#model.add(Conv2D(16,9,9, activation = 'elu', name='Conv2D2'))\n",
    "model.add(MaxPooling2D(pool_size=(2,2), name='MaxPoolC2'))\n",
    "model.add(Dropout(0.3, name='DropoutC2'))\n",
    "\n",
    "model.add(Conv2D(32,5,5, activation = 'elu', name='Conv2D3'))\n",
    "#model.add(Conv2D(32,7,7, activation = 'elu', name='Conv2D3'))\n",
    "model.add(MaxPooling2D(pool_size=(2,2), name='MaxPoolC3'))\n",
    "model.add(Dropout(0.3, name='DropoutC3'))\n",
    "\n",
    "model.add(Conv2D(32,3,3, activation = 'elu', name='Conv2D4'))\n",
    "#model.add(Conv2D(128,3,3, activation = 'elu', name='Conv2D5'))\n",
    "model.add(MaxPooling2D(pool_size=(2,2), name='MaxPoolC4'))\n",
    "model.add(Dropout(0.3, name='DropoutC4'))\n",
    "\n",
    "#model.add(Conv2D(64,3,3, activation = 'elu', name='Conv2D5'))\n",
    "#model.add(Conv2D(128,3,3, activation = 'elu', name='Conv2D6'))\n",
    "#model.add(MaxPooling2D(pool_size=(2,2), name='MaxPoolC6'))\n",
    "#model.add(Dropout(0.5, name='DropoutC6'))\n",
    "\n",
    "#model.add(Conv2D(256,2,2, activation = 'relu', name='Conv2D7'))\n",
    "#model.add(MaxPooling2D(pool_size=(2,2), name='MaxPoolC7'))\n",
    "#model.add(Dropout(0.5, name='DropoutC7'))\n",
    "\n",
    "# convolution to dense\n",
    "model.add(Flatten(name='Conv2Dense'))\n",
    "\n",
    "model.add(Dense(256,activation='elu', name='Dense1'))\n",
    "model.add(Dropout(0.5, name='DropoutD1'))\n",
    "\n",
    "model.add(Dense(128,activation='elu', name='Dense2'))\n",
    "model.add(Dropout(0.5, name='DropoutD2'))\n",
    "\n",
    "model.add(Dense(64,activation='elu', name='Dense3'))\n",
    "model.add(Dropout(0.5, name='DropoutD3'))\n",
    "\n",
    "model.add(Dense(8,activation='elu', name='Dense4'))\n",
    "model.add(Dropout(0.5, name='DropoutD4'))\n",
    "\n",
    "model.add(Dense(1,activation='elu', name='Output')) # problem is a regression"
   ]
  },
  {
   "cell_type": "code",
   "execution_count": null,
   "metadata": {
    "collapsed": false
   },
   "outputs": [],
   "source": [
    "#data selection -> make the zero Steering Angle less\n",
    "#idea from : https://github.com/budmitr\n",
    "non_zero_samples =  training_log.loc[training_log['Steering Angle'] != 0.0,:] \n",
    "zero_samples =  training_log.loc[training_log['Steering Angle'] == 0.0,:]  # \n",
    "print(training_log.shape, non_zero_samples.shape, zero_samples.shape) \n",
    "\n",
    "fraction = 0.2\n",
    "new_training_log = pd.concat([non_zero_samples, zero_samples.sample(frac=fraction)], ignore_index=True)\n",
    "\n",
    "#print(newDrivingLog)\n",
    "training_log = new_training_log\n",
    "\n",
    "print(training_log['Steering Angle'].shape)"
   ]
  }
 ],
 "metadata": {
  "kernelspec": {
   "display_name": "Python 3",
   "language": "python",
   "name": "python3"
  },
  "language_info": {
   "codemirror_mode": {
    "name": "ipython",
    "version": 3
   },
   "file_extension": ".py",
   "mimetype": "text/x-python",
   "name": "python",
   "nbconvert_exporter": "python",
   "pygments_lexer": "ipython3",
   "version": "3.5.2"
  },
  "widgets": {
   "state": {},
   "version": "1.1.2"
  }
 },
 "nbformat": 4,
 "nbformat_minor": 2
}
